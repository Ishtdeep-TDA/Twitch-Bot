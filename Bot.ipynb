{
 "cells": [
  {
   "cell_type": "code",
   "execution_count": null,
   "id": "a2fe3f88-8b40-4ab4-b783-a1135c785318",
   "metadata": {},
   "outputs": [
    {
     "name": "stdout",
     "output_type": "stream",
     "text": [
      "Logged in as | analysis_bot11\n",
      "time difference\n",
      "4.042726039886475\n",
      "time difference\n",
      "9.73815631866455\n",
      "graph input\n",
      "[('word2', 6), ('word1', 4), ('word3', 4), ('word5', 4), ('word4', 3), ('7word', 3)]\n",
      "graph was printed\n"
     ]
    }
   ],
   "source": [
    "from twitchio.ext import commands\n",
    "import nest_asyncio\n",
    "import seaborn as sns\n",
    "import matplotlib.pyplot as plt\n",
    "import time\n",
    "import regex\n",
    "from nltk.stem import PorterStemmer,SnowballStemmer\n",
    "from nltk.corpus import stopwords\n",
    "from nltk.tokenize import word_tokenize\n",
    "from nltk.probability import FreqDist\n",
    "from collections import deque\n",
    "from processing import Token_List,Chat_processor,Token,Tester\n",
    "\n",
    "nest_asyncio.apply()\n",
    "class Bot(commands.Bot):\n",
    "\n",
    "    def __init__(self):\n",
    "        # Initialise our Bot with our access token, prefix and a list of channels to join on boot...\n",
    "        # prefix can be a callable, which returns a list of strings or a string...\n",
    "        # initial_channels can also be a callable which returns a list of strings...\n",
    "        self.nlp_processor = Chat_processor()\n",
    "        self.last_time_graph = time.time()\n",
    "        super().__init__(token='chd088egdk7ocqx4rbqs9ux367gckw', prefix='?', initial_channels=['bananashooter07'])\n",
    "\n",
    "    async def event_ready(self):\n",
    "        # Notify us when everything is ready!\n",
    "        # We are logged in and ready to chat and use commands...\n",
    "        print(f'Logged in as | {self.nick}')\n",
    "\n",
    "    async def event_message(self, message):\n",
    "        # Messages with echo set to True are messages sent by the bot...\n",
    "        # For now we just want to ignore them...\n",
    "        if message.echo:\n",
    "            return\n",
    "                \n",
    "        # we need to process the message first before dictionary\n",
    "        # remember to add rstrip and lstrip\n",
    "        self.nlp_processor.process_string(message.content,message.author.name)\n",
    "        \n",
    "        \n",
    "        # need to run build graph once the program starts and then it will call itself after every n seconds\n",
    "        print('time difference')\n",
    "        print(time.time() - self.last_time_graph)\n",
    "        \n",
    "        if time.time() - self.last_time_graph > 5:\n",
    "            self.build_graph(self.nlp_processor.getCommon())\n",
    "            self.last_time_graph = time.time()\n",
    "        # Since we have commands and are overriding the default `event_message`\n",
    "        # We must let the bot know we want to handle and invoke our commands...\n",
    "        await self.handle_commands(message)\n",
    "    \n",
    "    def build_graph(self,inputs):\n",
    "        # we first sort the array and clean it to get it into plotting format\n",
    "        if inputs:\n",
    "            print('graph input')\n",
    "            print(inputs)\n",
    "            x_axis = []\n",
    "            y_axis = []\n",
    "            for i in inputs:\n",
    "                x_axis.append(i[0])\n",
    "                y_axis.append(i[1])\n",
    "            \n",
    "            plt.figure(figsize=(10,8))\n",
    "            plt.title(\"Word Frequency\")\n",
    "            ax = sns.barplot(x = x_axis, y = y_axis,palette=(\"OrRd_r\"))\n",
    "            plt.savefig(r'C:\\Users\\TheDarkAce\\Jupyter scripts\\Twitchbot/barchart.png')\n",
    "            print('graph was printed')\n",
    "            \n",
    "    @commands.command()\n",
    "    async def hello(self, ctx: commands.Context):\n",
    "        \n",
    "        await ctx.send(f'Hello kya bol raha hai Bhowsadike')\n",
    "\n",
    "\n",
    "bot = Bot()\n",
    "bot.run()\n",
    "# bot.run() is blocking and will stop execution of any below code here until stopped or closed."
   ]
  },
  {
   "cell_type": "code",
   "execution_count": 1,
   "id": "2cc22a53-c7db-4dd6-91e9-4e1e049f72ce",
   "metadata": {},
   "outputs": [
    {
     "name": "stdout",
     "output_type": "stream",
     "text": [
      "2.0.6\n"
     ]
    }
   ],
   "source": [
    "import twitchio\n",
    "print(twitchio.__version__)"
   ]
  },
  {
   "cell_type": "code",
   "execution_count": null,
   "id": "ecc75b81-6042-4d51-85fb-5654daa8b505",
   "metadata": {},
   "outputs": [],
   "source": []
  },
  {
   "cell_type": "code",
   "execution_count": null,
   "id": "f661ac30-15a9-46f8-abc9-2356e560f172",
   "metadata": {},
   "outputs": [],
   "source": []
  }
 ],
 "metadata": {
  "kernelspec": {
   "display_name": "Python 3",
   "language": "python",
   "name": "python3"
  },
  "language_info": {
   "codemirror_mode": {
    "name": "ipython",
    "version": 3
   },
   "file_extension": ".py",
   "mimetype": "text/x-python",
   "name": "python",
   "nbconvert_exporter": "python",
   "pygments_lexer": "ipython3",
   "version": "3.8.11"
  }
 },
 "nbformat": 4,
 "nbformat_minor": 5
}
